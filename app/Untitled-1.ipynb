{
 "cells": [
  {
   "cell_type": "code",
   "execution_count": 2,
   "metadata": {},
   "outputs": [
    {
     "name": "stdout",
     "output_type": "stream",
     "text": [
      "User\n",
      "Moderator\n",
      "Administrator\n"
     ]
    }
   ],
   "source": [
    "class Permission():\n",
    "    FOLLOW = 0x01\n",
    "    COMMENT = 0x02 \n",
    "    WRITE_ARTICLES = 0x04\n",
    "    MODERATE_COMMENTS = 0x08\n",
    "    ADMINISTER = 0x80\n",
    "\n",
    "roles = { 'User': (Permission.FOLLOW | Permission.COMMENT |\n",
    "Permission.WRITE_ARTICLES, True), 'Moderator': (Permission.FOLLOW | Permission.COMMENT | Permission.WRITE_ARTICLES | Permission.MODERATE_COMMENTS, False),\n",
    "'Administrator': (0xff, False)\n",
    "}\n",
    "for r in roles:\n",
    "    print(r)"
   ]
  }
 ],
 "metadata": {
  "interpreter": {
   "hash": "43f64b0a4c1591d7ca3960060f9b7b05e3ae8c17139437e731812d8f907a9d00"
  },
  "kernelspec": {
   "display_name": "Python 3.8.5 ('venv': venv)",
   "language": "python",
   "name": "python3"
  },
  "language_info": {
   "codemirror_mode": {
    "name": "ipython",
    "version": 3
   },
   "file_extension": ".py",
   "mimetype": "text/x-python",
   "name": "python",
   "nbconvert_exporter": "python",
   "pygments_lexer": "ipython3",
   "version": "3.8.5"
  },
  "orig_nbformat": 4
 },
 "nbformat": 4,
 "nbformat_minor": 2
}
